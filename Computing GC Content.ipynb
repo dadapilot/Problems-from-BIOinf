{
 "cells": [
  {
   "cell_type": "markdown",
   "metadata": {},
   "source": [
    "# Computing GC Content"
   ]
  },
  {
   "cell_type": "markdown",
   "metadata": {},
   "source": [
    "Problem\n",
    "\n",
    "The GC-content of a DNA string is given by the percentage of symbols in the string that are 'C' or 'G'. For example, the GC-content of \"AGCTATAG\" is 37.5%. Note that the reverse complement of any DNA string has the same GC-content.\n",
    "\n",
    "DNA strings must be labeled when they are consolidated into a database. A commonly used method of string labeling is called FASTA format. In this format, the string is introduced by a line that begins with '>', followed by some labeling information. Subsequent lines contain the string itself; the first line to begin with '>' indicates the label of the next string.\n",
    "\n",
    "In Rosalind's implementation, a string in FASTA format will be labeled by the ID \"Rosalind_xxxx\", where \"xxxx\" denotes a four-digit code between 0000 and 9999.\n",
    "\n",
    "Given: At most 10 DNA strings in FASTA format (of length at most 1 kbp each).\n",
    "\n",
    "Return: The ID of the string having the highest GC-content, followed by the GC-content of that string. Rosalind allows for a default error of 0.001 in all decimal answers unless otherwise stated; please see the note on absolute error below.\n"
   ]
  },
  {
   "cell_type": "code",
   "execution_count": 9,
   "metadata": {},
   "outputs": [],
   "source": [
    "from operator import is_not\n",
    "from functools import partial\n",
    "import numpy as np\n",
    "DNA_list=[None]"
   ]
  },
  {
   "cell_type": "code",
   "execution_count": 10,
   "metadata": {},
   "outputs": [],
   "source": [
    "with open('Computing_GC_Content_data.txt','r') as data_Rosa:\n",
    "    for line in data_Rosa:\n",
    "        DNA_list.append(line.strip())"
   ]
  },
  {
   "cell_type": "code",
   "execution_count": 11,
   "metadata": {},
   "outputs": [],
   "source": [
    "def list_filter_None(L):\n",
    "    return list(filter(partial(is_not, None), L))"
   ]
  },
  {
   "cell_type": "code",
   "execution_count": 12,
   "metadata": {},
   "outputs": [],
   "source": [
    "def join_string(L):\n",
    "    a=0\n",
    "    M=[None]\n",
    "    for id, elem in enumerate(L):\n",
    "        if elem.isalnum() is not True:\n",
    "            a=0\n",
    "            M.append(elem)\n",
    "        else:\n",
    "            a+=1\n",
    "            if a>1:\n",
    "                M[len(M)-1]=M[len(M)-1]+elem\n",
    "            else: M.append(elem)\n",
    "    return list(filter(partial(is_not, None), M))"
   ]
  },
  {
   "cell_type": "code",
   "execution_count": 13,
   "metadata": {},
   "outputs": [],
   "source": [
    "DNA_list=list_filter_None(DNA_list)\n",
    "\n",
    "DNA_list_join=join_string(DNA_list)"
   ]
  },
  {
   "cell_type": "code",
   "execution_count": 14,
   "metadata": {},
   "outputs": [],
   "source": [
    "def quant_C(string):\n",
    "    if string.isalnum():\n",
    "        return string.count('C')\n",
    "\n",
    "def quant_G(string):\n",
    "    if string.isalnum():\n",
    "        return string.count('G')"
   ]
  },
  {
   "cell_type": "code",
   "execution_count": 15,
   "metadata": {},
   "outputs": [],
   "source": [
    "def format_zero(x):\n",
    "    return format(x, '.6f')"
   ]
  },
  {
   "cell_type": "code",
   "execution_count": 17,
   "metadata": {},
   "outputs": [
    {
     "name": "stdout",
     "output_type": "stream",
     "text": [
      "80 18 25 [['53.750000', 1], None, None]\n",
      "84 17 28 [['53.750000', 1], ['53.571429', 3], None]\n",
      "87 29 24 [['53.750000', 1], ['53.571429', 3], ['60.919540', 5]]\n",
      "Rosalind_0808\n",
      "60.919540\n"
     ]
    }
   ],
   "source": [
    "list_for_C=list_filter_None(list((map(quant_C, DNA_list_join))))\n",
    "\n",
    "list_for_G=list_filter_None(list((map(quant_G, DNA_list_join))))\n",
    "temp=[None]*(len(DNA_list_join)//2)\n",
    "for id, item in enumerate(DNA_list_join):\n",
    "    if item.isalnum():\n",
    "        a=(100/len(item))*(list_for_G[id//2]+list_for_C[id//2])\n",
    "        temp[id//2]=[format_zero(a),id]\n",
    "        #print(len(item),list_for_G[id//2],list_for_C[id//2],temp)\n",
    "FASTA_format=DNA_list_join[max(temp)[1]-1][1:]\n",
    "print(FASTA_format)\n",
    "print(max(temp)[0])\n"
   ]
  }
 ],
 "metadata": {
  "kernelspec": {
   "display_name": "Python 3",
   "language": "python",
   "name": "python3"
  },
  "language_info": {
   "codemirror_mode": {
    "name": "ipython",
    "version": 3
   },
   "file_extension": ".py",
   "mimetype": "text/x-python",
   "name": "python",
   "nbconvert_exporter": "python",
   "pygments_lexer": "ipython3",
   "version": "3.7.1"
  }
 },
 "nbformat": 4,
 "nbformat_minor": 2
}
